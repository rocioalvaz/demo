{
 "cells": [
  {
   "cell_type": "markdown",
   "metadata": {},
   "source": [
    "En el movimiento parabólico, el cual se conoce también con el nombre de tiro parabólico, un cuerpo es lanzado desde una altura $H$ con una velocidad inicial $v_0$, cuya dirección forma un ángulo $\\alpha$ con la horizontal. Por lo tanto, el tiro parabólico se estudia como la composición de dos movimientos: \n",
    "- Eje X: Movimiento Rectilíneo Uniforme (MRU)\n",
    "- Eje Y: Movimiento Rectilíneo Uniformemente Acelerado (MRUA) \n",
    "\n",
    "![mvtoparabolico.png](attachment:mvtoparabolico.png)\n",
    "\n",
    "Se hace uso del ángulo $\\alpha$ y de relaciones trigonométricas para calcular las proyecciones de la velocidad en cada uno de los ejes:\n",
    "- $v_x = v * cos (\\alpha)$\n",
    "- $v_y = v * sen (\\alpha)$\n",
    "    \n",
    "Teniendo en cuenta que $y_0 = H$, $x_0 = 0$, y $a_y = -g$ (aceleración de la gravedad), las ecuaciones del movimiento quedan para cada uno de los ejes de la siguiente forma:\n",
    "- Eje X: \n",
    "  - $x (t) = x_0 + v_x * t = v_0 * cos (\\alpha) * t$\n",
    "  - $v_x = v_{x0} = v_0 * cos (\\alpha)$  \n",
    "  - $a_x = 0$\n",
    "\n",
    "- Eje Y: \n",
    "  - $y (t) = y_0 + v_{y0} * t + 1/2 * a_y * t^2 = H + v_0 * sen (\\alpha) * t - 1/2 * g * t^2$\n",
    "  - $v_y = v_{y0} + a_y * t = v_0 * sen (\\alpha) - g * t$ \n",
    "  - $a_y = -g$ "
   ]
  },
  {
   "cell_type": "markdown",
   "metadata": {},
   "source": [
    "Se procede al análisis del código y de los resultados obtenidos. En primer lugar, importamos todas las librerías necesarias para la ejecución del código:"
   ]
  },
  {
   "cell_type": "code",
   "execution_count": 14,
   "metadata": {},
   "outputs": [],
   "source": [
    "import numpy as np #Añade la librería numérica\n",
    "import matplotlib.pyplot as plt #Librería para la representación gráfica"
   ]
  },
  {
   "cell_type": "markdown",
   "metadata": {},
   "source": [
    "Posteriormente, definimos las variables globales, las cuales se mantendrán constantes en todo momento. En nuestro caso, los valores de dichas variables vienen definidos en el enunciado del problema:"
   ]
  },
  {
   "cell_type": "code",
   "execution_count": null,
   "metadata": {},
   "outputs": [],
   "source": [
    "g = 9.81 #Aceleración de la gravedad (m/s^2)\n",
    "h = 0.01 #Intervalo de tiempo entre cada cálculo de las variables (s)\n",
    "#Pedimos los inputs (meter datos del enunciado del problema)\n",
    "v0 = float(input('Introduzca velocidad de lanzamiento (m): '))\n",
    "y0 = float(input('Introduzca altura de lanzamiento (m): '))\n",
    "alpha = float(input('Introduzca ángulo de lanzamiento (º): '))   "
   ]
  },
  {
   "cell_type": "markdown",
   "metadata": {},
   "source": [
    "Usaremos el método de integración numérica de Euler para obtener los valores de las posiciones y velocidades en cada eje. Para ello, haremos uso de la siguiente expresión general:\n",
    "\n",
    "$$p = \\int_{0}^{t}q \\ dt \\Rightarrow Y_{i+1} = Y_i + H * F(X_i,Y_i)$$\n",
    "\n",
    "Definimos una función cuyo resultado sea el valor de dicha integración:"
   ]
  },
  {
   "cell_type": "code",
   "execution_count": null,
   "metadata": {},
   "outputs": [],
   "source": [
    "def integra(p,q,h): \n",
    "    #Código para calcular el resultado de la integración\n",
    "    res = p+q*h\n",
    "    return res"
   ]
  },
  {
   "cell_type": "markdown",
   "metadata": {},
   "source": [
    "A continuación, procedemos a la creación del código de la función principal. Haciendo uso del método de Euler, podremos calcular la siguientes variables:\n",
    "   - Eje x:\n",
    "        - Posición: $$x(t) = \\int_{0}^{t}v_x \\ dt$$\n",
    "   - Eje y: \n",
    "        - Velocidad: $$v_y(t) = \\int_{0}^{t}a_y \\ dt$$\n",
    "        - Posición: $$y(t) = \\int_{0}^{t}v_y \\ dt$$"
   ]
  },
  {
   "cell_type": "code",
   "execution_count": null,
   "metadata": {},
   "outputs": [],
   "source": [
    "def main():\n",
    "    #Código de la funcion principal\n",
    "    #Declaración de variables locales\n",
    "    #Cálculo de velocidades iniciales en los ejes\n",
    "    vx0 = v0*(np.cos((np.pi*alpha)/180))\n",
    "    vy0 = v0*(np.sin((np.pi*alpha)/180))\n",
    "    \n",
    "    #Creamos listas con valores iniciales de las variables\n",
    "    t=[0]\n",
    "    x=[0] #Alcance inicial nulo\n",
    "    y=[y0] #Altura inicial=altura de lanzamiento\n",
    "    vx=[vx0]\n",
    "    vy=[vy0]\n",
    "    \n",
    "    #Cálculo de las variables para cada instante t\n",
    "    while y[-1] >=0: #Calcula mientras altura sea positiva (cuerpo en vuelo) o nula (llegue al suelo)\n",
    "            #Integramos la velocidad en x para hallar la posición en x\n",
    "            x_nueva=integra(x[-1],vx[-1],h) \n",
    "            x.extend([x_nueva]) #Añadimos la nueva posición a la lista de posiciones\n",
    "            #En x tenemos un MRU por lo que no hay aceleración, en cambio, en y debemos calcular dos integrales para tener en cuenta la aceleración de la gravedad, pues tenemos un MRUA\n",
    "            #Integramos la aceleración en y (gravedad) para obtener la velocidad en y\n",
    "            vy_nueva=integra(vy[-1],-g,h)\n",
    "            vy.extend([vy_nueva])\n",
    "            #Integramos la velocidad en y para hallar la posición en y\n",
    "            y_nueva=integra(y[-1],vy[-1],h)\n",
    "            y.extend([y_nueva])\n",
    "            vx.extend([vx0]) #Velocidad en x se mantiene constante e igual a la inicial (MRU)\n",
    "            t.extend([t[-1]+h]) #Sumamos el intervalo de tiempo al tiempo anterior \n",
    "\n",
    "    #Pintamos la gráfica del tiro parabólico\n",
    "    plt.figure()\n",
    "    plt.plot(x,y,'b')\n",
    "    plt.xlabel('Alcance (m)')\n",
    "    plt.ylabel('Altura (m)')\n",
    "    plt.xlim(0,400.0)\n",
    "    plt.title ('Tiro parabólico')\n",
    "    plt.show() #Mostrar figura creada\n",
    "    \n",
    "     #Enseñamos en pantalla los resultados obtenidos\n",
    "    print ('El alcance total es de', x[-1], 'm')\n",
    "    print ('El tiempo de vuelo es de ',t[-1], 's')    "
   ]
  },
  {
   "cell_type": "markdown",
   "metadata": {},
   "source": [
    "Por último, ejecutamos el código principal, representando el tiro parabólico:"
   ]
  },
  {
   "cell_type": "code",
   "execution_count": null,
   "metadata": {},
   "outputs": [],
   "source": [
    "if __name__ == \"__main__\": main()"
   ]
  },
  {
   "cell_type": "markdown",
   "metadata": {},
   "source": [
    "De esta forma comprobamos que los resultados obtenidos se ajustan a lo que se pide en el enunciado del problema."
   ]
  },
  {
   "cell_type": "code",
   "execution_count": null,
   "metadata": {},
   "outputs": [],
   "source": []
  }
 ],
 "metadata": {
  "kernelspec": {
   "display_name": "Python 3",
   "language": "python",
   "name": "python3"
  },
  "language_info": {
   "codemirror_mode": {
    "name": "ipython",
    "version": 3
   },
   "file_extension": ".py",
   "mimetype": "text/x-python",
   "name": "python",
   "nbconvert_exporter": "python",
   "pygments_lexer": "ipython3",
   "version": "3.7.4"
  }
 },
 "nbformat": 4,
 "nbformat_minor": 4
}
